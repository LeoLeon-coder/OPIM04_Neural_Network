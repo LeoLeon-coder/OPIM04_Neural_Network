{
  "cells": [
    {
      "cell_type": "markdown",
      "source": [
        "GPU configuration"
      ],
      "metadata": {
        "id": "Zv5TBM9tFgBh"
      },
      "id": "Zv5TBM9tFgBh"
    },
    {
      "cell_type": "code",
      "source": [
        "import tensorflow as tf\n",
        "tf.test.gpu_device_name()"
      ],
      "metadata": {
        "colab": {
          "base_uri": "https://localhost:8080/",
          "height": 35
        },
        "id": "rRaYJWQCEF4S",
        "outputId": "cfd5d9c2-130e-4373-f604-7756a7185095"
      },
      "id": "rRaYJWQCEF4S",
      "execution_count": 2,
      "outputs": [
        {
          "output_type": "execute_result",
          "data": {
            "text/plain": [
              "'/device:GPU:0'"
            ],
            "application/vnd.google.colaboratory.intrinsic+json": {
              "type": "string"
            }
          },
          "metadata": {},
          "execution_count": 2
        }
      ]
    },
    {
      "cell_type": "code",
      "source": [
        "from tensorflow.python.client import device_lib\n",
        "device_lib.list_local_devices()"
      ],
      "metadata": {
        "colab": {
          "base_uri": "https://localhost:8080/"
        },
        "id": "gCpyTVCJEOkr",
        "outputId": "0f185c20-cf65-4151-d048-a8093cd2b3a2"
      },
      "id": "gCpyTVCJEOkr",
      "execution_count": 3,
      "outputs": [
        {
          "output_type": "execute_result",
          "data": {
            "text/plain": [
              "[name: \"/device:CPU:0\"\n",
              " device_type: \"CPU\"\n",
              " memory_limit: 268435456\n",
              " locality {\n",
              " }\n",
              " incarnation: 795289409077233753\n",
              " xla_global_id: -1, name: \"/device:GPU:0\"\n",
              " device_type: \"GPU\"\n",
              " memory_limit: 14385217536\n",
              " locality {\n",
              "   bus_id: 1\n",
              "   links {\n",
              "   }\n",
              " }\n",
              " incarnation: 7554617034109114663\n",
              " physical_device_desc: \"device: 0, name: Tesla T4, pci bus id: 0000:00:04.0, compute capability: 7.5\"\n",
              " xla_global_id: 416903419]"
            ]
          },
          "metadata": {},
          "execution_count": 3
        }
      ]
    },
    {
      "cell_type": "code",
      "source": [
        "!cat /proc/meminfo"
      ],
      "metadata": {
        "colab": {
          "base_uri": "https://localhost:8080/"
        },
        "id": "jr9DKimcEX6G",
        "outputId": "a19efb7d-9dae-4daf-bada-8d0dd110c563"
      },
      "id": "jr9DKimcEX6G",
      "execution_count": 4,
      "outputs": [
        {
          "output_type": "stream",
          "name": "stdout",
          "text": [
            "MemTotal:       13297200 kB\n",
            "MemFree:         9449240 kB\n",
            "MemAvailable:   11084696 kB\n",
            "Buffers:           79020 kB\n",
            "Cached:          1765896 kB\n",
            "SwapCached:            0 kB\n",
            "Active:           401344 kB\n",
            "Inactive:        3082940 kB\n",
            "Active(anon):       3824 kB\n",
            "Inactive(anon):  1643084 kB\n",
            "Active(file):     397520 kB\n",
            "Inactive(file):  1439856 kB\n",
            "Unevictable:           0 kB\n",
            "Mlocked:               0 kB\n",
            "SwapTotal:             0 kB\n",
            "SwapFree:              0 kB\n",
            "Dirty:               324 kB\n",
            "Writeback:             0 kB\n",
            "AnonPages:       1639476 kB\n",
            "Mapped:           636676 kB\n",
            "Shmem:             11592 kB\n",
            "KReclaimable:      79060 kB\n",
            "Slab:             123508 kB\n",
            "SReclaimable:      79060 kB\n",
            "SUnreclaim:        44448 kB\n",
            "KernelStack:        5600 kB\n",
            "PageTables:        21124 kB\n",
            "NFS_Unstable:          0 kB\n",
            "Bounce:                0 kB\n",
            "WritebackTmp:          0 kB\n",
            "CommitLimit:     6648600 kB\n",
            "Committed_AS:    4338052 kB\n",
            "VmallocTotal:   34359738367 kB\n",
            "VmallocUsed:       78032 kB\n",
            "VmallocChunk:          0 kB\n",
            "Percpu:             1360 kB\n",
            "HardwareCorrupted:     0 kB\n",
            "AnonHugePages:         0 kB\n",
            "ShmemHugePages:        0 kB\n",
            "ShmemPmdMapped:        0 kB\n",
            "FileHugePages:         0 kB\n",
            "FilePmdMapped:         0 kB\n",
            "CmaTotal:              0 kB\n",
            "CmaFree:               0 kB\n",
            "HugePages_Total:       0\n",
            "HugePages_Free:        0\n",
            "HugePages_Rsvd:        0\n",
            "HugePages_Surp:        0\n",
            "Hugepagesize:       2048 kB\n",
            "Hugetlb:               0 kB\n",
            "DirectMap4k:      463680 kB\n",
            "DirectMap2M:     8970240 kB\n",
            "DirectMap1G:     6291456 kB\n"
          ]
        }
      ]
    },
    {
      "cell_type": "code",
      "source": [
        "!ln -sf /opt/bin/nvidia-smi /usr/bin/nvidia-smi\n",
        "!pip install gputil\n",
        "!pip install psutil\n",
        "!pip install humanize\n",
        "import psutil\n",
        "import humanize\n",
        "import os\n",
        "import GPUtil as GPU\n",
        "GPUs = GPU.getGPUs()\n",
        "# XXX: only one GPU on Colab and isn’t guaranteed\n",
        "gpu = GPUs[0]\n",
        "def printm():\n",
        " process = psutil.Process(os.getpid())\n",
        " print(\"Gen RAM Free: \" + humanize.naturalsize( psutil.virtual_memory().available ), \" | Proc size: \" + humanize.naturalsize( process.memory_info().rss))\n",
        " print(\"GPU RAM Free: {0:.0f}MB | Used: {1:.0f}MB | Util {2:3.0f}% | Total {3:.0f}MB\".format(gpu.memoryFree, gpu.memoryUsed, gpu.memoryUtil*100, gpu.memoryTotal))\n",
        "printm() "
      ],
      "metadata": {
        "colab": {
          "base_uri": "https://localhost:8080/"
        },
        "id": "hLczNc3kFEF5",
        "outputId": "5e9cd847-1345-42d9-e376-5cc49544d675"
      },
      "id": "hLczNc3kFEF5",
      "execution_count": 5,
      "outputs": [
        {
          "output_type": "stream",
          "name": "stdout",
          "text": [
            "Looking in indexes: https://pypi.org/simple, https://us-python.pkg.dev/colab-wheels/public/simple/\n",
            "Requirement already satisfied: gputil in /usr/local/lib/python3.8/dist-packages (1.4.0)\n",
            "Looking in indexes: https://pypi.org/simple, https://us-python.pkg.dev/colab-wheels/public/simple/\n",
            "Requirement already satisfied: psutil in /usr/local/lib/python3.8/dist-packages (5.4.8)\n",
            "Looking in indexes: https://pypi.org/simple, https://us-python.pkg.dev/colab-wheels/public/simple/\n",
            "Requirement already satisfied: humanize in /usr/local/lib/python3.8/dist-packages (0.5.1)\n",
            "Gen RAM Free: 11.3 GB  | Proc size: 1.3 GB\n",
            "GPU RAM Free: 14768MB | Used: 333MB | Util   2% | Total 15360MB\n"
          ]
        }
      ]
    },
    {
      "cell_type": "code",
      "source": [
        "# Do not run unless the utilization is greater than 0%\n",
        "# !kill -9 -1"
      ],
      "metadata": {
        "id": "CTZmb4IvFRYs"
      },
      "id": "CTZmb4IvFRYs",
      "execution_count": 6,
      "outputs": []
    },
    {
      "cell_type": "code",
      "source": [
        "from google.colab import drive\n",
        "drive.mount('/content/drive')"
      ],
      "metadata": {
        "colab": {
          "base_uri": "https://localhost:8080/"
        },
        "id": "KZtfii8LK52W",
        "outputId": "1adc11f8-9a78-4333-be5c-6a04731ce0c9"
      },
      "id": "KZtfii8LK52W",
      "execution_count": 7,
      "outputs": [
        {
          "output_type": "stream",
          "name": "stdout",
          "text": [
            "Drive already mounted at /content/drive; to attempt to forcibly remount, call drive.mount(\"/content/drive\", force_remount=True).\n"
          ]
        }
      ]
    },
    {
      "cell_type": "code",
      "execution_count": 8,
      "id": "6d4e0187",
      "metadata": {
        "id": "6d4e0187"
      },
      "outputs": [],
      "source": [
        "import joblib\n",
        "from sklearn.model_selection import train_test_split\n",
        "from sklearn.preprocessing import MinMaxScaler, StandardScaler\n",
        "import time\n",
        "\n",
        "X, y = joblib.load('/content/drive/MyDrive/DATASETS/OPIM04/small_dataset.pkl')"
      ]
    },
    {
      "cell_type": "code",
      "execution_count": 9,
      "id": "c1a5c070",
      "metadata": {
        "id": "c1a5c070",
        "colab": {
          "base_uri": "https://localhost:8080/"
        },
        "outputId": "d4b2ebf4-3966-4062-af15-ff1c72df9daa"
      },
      "outputs": [
        {
          "output_type": "stream",
          "name": "stdout",
          "text": [
            "[47912556.19832166 15601955.0980269   9560696.31828067  8677593.67855733\n",
            "  5216893.00403294  4684754.85619269  2160782.98305553  1363200.1143105\n",
            "  1241280.46653418   861725.21943555   771382.717045     678673.47905487\n",
            "   546454.28275696   509058.57050548   474185.27223271   457867.4627369\n",
            "   368501.17324673   324528.08020177   308518.88631308   300857.57642702\n",
            "   270077.35680966   238294.71182284   226386.52900048   217945.11133877\n",
            "   206391.90835713   190066.76625734   169082.17368019   160927.48743052\n",
            "   153665.642408     148549.37900936   142793.35581509   131953.13116774\n",
            "   124446.4551192    122963.22803315   114216.38509685   108312.11781024\n",
            "   101668.04554978    95789.48397894    92148.8266492     88968.89531717\n",
            "    81965.53633403    81564.38470887]\n",
            "335.70 segundos transcurridos.\n"
          ]
        }
      ],
      "source": [
        "from sklearn.decomposition import PCA\n",
        "\n",
        "init_time = time.time()\n",
        "pca_obj = PCA(n_components=0.95)\n",
        "pca_obj.fit(X)\n",
        "print(pca_obj.explained_variance_)\n",
        "end_time = time.time()\n",
        "print(\"{:.2f} segundos transcurridos.\".format(end_time-init_time))"
      ]
    },
    {
      "cell_type": "code",
      "execution_count": 10,
      "id": "3995e8e9",
      "metadata": {
        "id": "3995e8e9"
      },
      "outputs": [],
      "source": [
        "min_scaler = MinMaxScaler()\n",
        "min_scaler.fit(X)\n",
        "X_mscaler = min_scaler.transform(X)"
      ]
    },
    {
      "cell_type": "code",
      "execution_count": 11,
      "id": "94244ae5",
      "metadata": {
        "id": "94244ae5"
      },
      "outputs": [],
      "source": [
        "x_train, x_test, y_train, y_test = train_test_split(X_mscaler,\n",
        "                                                    y,\n",
        "                                                    test_size=0.20,\n",
        "                                                    stratify= y)"
      ]
    },
    {
      "cell_type": "code",
      "source": [
        "from keras.models import Sequential\n",
        "from keras.layers import Conv2D, MaxPooling2D, Flatten, Dense\n",
        "from keras.optimizers import Adam\n",
        "from keras.utils import to_categorical\n",
        "import numpy as np"
      ],
      "metadata": {
        "id": "ZS79XfELSc-9"
      },
      "id": "ZS79XfELSc-9",
      "execution_count": 12,
      "outputs": []
    },
    {
      "cell_type": "code",
      "source": [
        "# Convert labels to categorical one-hot encoding\n",
        "train_labels = to_categorical(y_train)\n",
        "test_labels = to_categorical(y_test)"
      ],
      "metadata": {
        "id": "HYLEYTTcVL8I"
      },
      "id": "HYLEYTTcVL8I",
      "execution_count": 13,
      "outputs": []
    },
    {
      "cell_type": "code",
      "source": [
        "network = Sequential()\n",
        "network.add(Dense(units=1024, activation=\"relu\", input_dim=97200))\n",
        "network.add(Flatten())\n",
        "network.add(Dense(units=512, activation=\"relu\"))\n",
        "network.add(Dense(units=256, activation=\"relu\"))\n",
        "network.add(Dense(units=5, activation=\"softmax\"))\n",
        "network.summary()"
      ],
      "metadata": {
        "colab": {
          "base_uri": "https://localhost:8080/"
        },
        "id": "zorZB7uKjFON",
        "outputId": "a51fe484-3948-4299-8a9b-e50d67907503"
      },
      "id": "zorZB7uKjFON",
      "execution_count": 13,
      "outputs": [
        {
          "output_type": "stream",
          "name": "stdout",
          "text": [
            "Model: \"sequential_1\"\n",
            "_________________________________________________________________\n",
            " Layer (type)                Output Shape              Param #   \n",
            "=================================================================\n",
            " dense_3 (Dense)             (None, 1024)              99533824  \n",
            "                                                                 \n",
            " flatten_1 (Flatten)         (None, 1024)              0         \n",
            "                                                                 \n",
            " dense_4 (Dense)             (None, 512)               524800    \n",
            "                                                                 \n",
            " dense_5 (Dense)             (None, 256)               131328    \n",
            "                                                                 \n",
            " dense_6 (Dense)             (None, 5)                 1285      \n",
            "                                                                 \n",
            "=================================================================\n",
            "Total params: 100,191,237\n",
            "Trainable params: 100,191,237\n",
            "Non-trainable params: 0\n",
            "_________________________________________________________________\n"
          ]
        }
      ]
    },
    {
      "cell_type": "code",
      "source": [
        "network.compile(optimizer=\"Adam\", loss=\"categorical_crossentropy\", metrics=[\"accuracy\"])\n",
        "network.fit(x_train, train_labels, batch_size=128, epochs=50)\n",
        "network.evaluate(x_test, test_labels, batch_size=128)"
      ],
      "metadata": {
        "id": "BMTX_cCwlDgZ"
      },
      "id": "BMTX_cCwlDgZ",
      "execution_count": null,
      "outputs": []
    },
    {
      "cell_type": "code",
      "source": [
        "# Define the model architecture\n",
        "#model.add(Conv2D(32, kernel_size=(3, 3), activation='relu', input_shape=(input_shape[0], input_shape[1], 1)))\n",
        "#model.add(MaxPooling2D(pool_size=(2, 2)))\n",
        "#model.add(Conv2D(64, kernel_size=(3, 3), activation='relu'))\n",
        "#model.add(MaxPooling2D(pool_size=(2, 2)))\n",
        "'''\n",
        "model = Sequential()\n",
        "model.add(Dense(units=128, input_dim=97200))\n",
        "model.add(Flatten())\n",
        "model.add(Dense(128, activation='relu'))\n",
        "model.add(Dense(5, activation='softmax'))\n",
        "'''"
      ],
      "metadata": {
        "id": "wBtgiiyrSpdq"
      },
      "id": "wBtgiiyrSpdq",
      "execution_count": 12,
      "outputs": []
    },
    {
      "cell_type": "code",
      "source": [
        "# Compile the model\n",
        "'''\n",
        "model.compile(optimizer=Adam(lr=0.001), loss='binary_crossentropy', metrics=['accuracy'])\n",
        "'''"
      ],
      "metadata": {
        "id": "d1ecVYQtSv53",
        "colab": {
          "base_uri": "https://localhost:8080/"
        },
        "outputId": "73c30975-8fab-4496-ded1-4bbbbfe961b1"
      },
      "id": "d1ecVYQtSv53",
      "execution_count": 13,
      "outputs": [
        {
          "output_type": "stream",
          "name": "stderr",
          "text": [
            "/usr/local/lib/python3.8/dist-packages/keras/optimizers/optimizer_v2/adam.py:117: UserWarning: The `lr` argument is deprecated, use `learning_rate` instead.\n",
            "  super().__init__(name, **kwargs)\n"
          ]
        }
      ]
    },
    {
      "cell_type": "code",
      "source": [
        "# Train the model\n",
        "'''\n",
        "model.fit(x_train, y_train, epochs=10, validation_data=(x_test, y_test))\n",
        "'''"
      ],
      "metadata": {
        "id": "Ec-mUa_oS0-8"
      },
      "id": "Ec-mUa_oS0-8",
      "execution_count": null,
      "outputs": []
    },
    {
      "cell_type": "code",
      "source": [
        "# Evaluate the model\n",
        "'''\n",
        "score = model.evaluate(x_test, y_test, verbose=0)\n",
        "print('Test loss:', score[0])\n",
        "print('Test accuracy:', score[1])\n",
        "'''"
      ],
      "metadata": {
        "id": "MnSlcjIKS0UG"
      },
      "id": "MnSlcjIKS0UG",
      "execution_count": null,
      "outputs": []
    }
  ],
  "metadata": {
    "kernelspec": {
      "display_name": "Python 3 (ipykernel)",
      "language": "python",
      "name": "python3"
    },
    "language_info": {
      "codemirror_mode": {
        "name": "ipython",
        "version": 3
      },
      "file_extension": ".py",
      "mimetype": "text/x-python",
      "name": "python",
      "nbconvert_exporter": "python",
      "pygments_lexer": "ipython3",
      "version": "3.7.16"
    },
    "colab": {
      "provenance": []
    },
    "accelerator": "GPU",
    "gpuClass": "standard"
  },
  "nbformat": 4,
  "nbformat_minor": 5
}